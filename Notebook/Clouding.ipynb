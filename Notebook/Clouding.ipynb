{
  "nbformat": 4,
  "nbformat_minor": 0,
  "metadata": {
    "colab": {
      "name": "Clouding.ipynb",
      "provenance": [],
      "collapsed_sections": []
    },
    "kernelspec": {
      "name": "python3",
      "display_name": "Python 3"
    },
    "language_info": {
      "name": "python"
    }
  },
  "cells": [
    {
      "cell_type": "code",
      "metadata": {
        "colab": {
          "base_uri": "https://localhost:8080/"
        },
        "id": "gE0QJHXviT1N",
        "outputId": "dd85f8b0-fcef-44e5-cc16-beca6e449fe1"
      },
      "source": [
        "pip install flask-ngrok"
      ],
      "execution_count": null,
      "outputs": [
        {
          "output_type": "stream",
          "text": [
            "Collecting flask-ngrok\n",
            "  Downloading https://files.pythonhosted.org/packages/af/6c/f54cb686ad1129e27d125d182f90f52b32f284e6c8df58c1bae54fa1adbc/flask_ngrok-0.0.25-py3-none-any.whl\n",
            "Requirement already satisfied: Flask>=0.8 in /usr/local/lib/python3.7/dist-packages (from flask-ngrok) (1.1.4)\n",
            "Requirement already satisfied: requests in /usr/local/lib/python3.7/dist-packages (from flask-ngrok) (2.23.0)\n",
            "Requirement already satisfied: itsdangerous<2.0,>=0.24 in /usr/local/lib/python3.7/dist-packages (from Flask>=0.8->flask-ngrok) (1.1.0)\n",
            "Requirement already satisfied: Jinja2<3.0,>=2.10.1 in /usr/local/lib/python3.7/dist-packages (from Flask>=0.8->flask-ngrok) (2.11.3)\n",
            "Requirement already satisfied: click<8.0,>=5.1 in /usr/local/lib/python3.7/dist-packages (from Flask>=0.8->flask-ngrok) (7.1.2)\n",
            "Requirement already satisfied: Werkzeug<2.0,>=0.15 in /usr/local/lib/python3.7/dist-packages (from Flask>=0.8->flask-ngrok) (1.0.1)\n",
            "Requirement already satisfied: chardet<4,>=3.0.2 in /usr/local/lib/python3.7/dist-packages (from requests->flask-ngrok) (3.0.4)\n",
            "Requirement already satisfied: idna<3,>=2.5 in /usr/local/lib/python3.7/dist-packages (from requests->flask-ngrok) (2.10)\n",
            "Requirement already satisfied: certifi>=2017.4.17 in /usr/local/lib/python3.7/dist-packages (from requests->flask-ngrok) (2020.12.5)\n",
            "Requirement already satisfied: urllib3!=1.25.0,!=1.25.1,<1.26,>=1.21.1 in /usr/local/lib/python3.7/dist-packages (from requests->flask-ngrok) (1.24.3)\n",
            "Requirement already satisfied: MarkupSafe>=0.23 in /usr/local/lib/python3.7/dist-packages (from Jinja2<3.0,>=2.10.1->Flask>=0.8->flask-ngrok) (2.0.1)\n",
            "Installing collected packages: flask-ngrok\n",
            "Successfully installed flask-ngrok-0.0.25\n"
          ],
          "name": "stdout"
        }
      ]
    },
    {
      "cell_type": "code",
      "metadata": {
        "id": "lrqUmaqRVxyC"
      },
      "source": [
        "from google.colab import auth\n",
        "from google.colab import files\n",
        "from google.colab import drive\n",
        "from keras.preprocessing import image\n",
        "import tensorflow as tf\n",
        "import numpy as np\n",
        "import base64\n",
        "import sys\n",
        "from flask import Flask, request\n",
        "from flask_ngrok import run_with_ngrok\n",
        "import os\n",
        "import json\n",
        "import tensorflow as tf\n",
        "from PIL import Image\n",
        "import io"
      ],
      "execution_count": null,
      "outputs": []
    },
    {
      "cell_type": "markdown",
      "metadata": {
        "id": "DTd9IBdXN9YU"
      },
      "source": [
        "# Flasking"
      ]
    },
    {
      "cell_type": "code",
      "metadata": {
        "colab": {
          "base_uri": "https://localhost:8080/"
        },
        "id": "CGUazyW_jFV2",
        "outputId": "7b634b08-f140-41dc-9231-40cc75ed3108"
      },
      "source": [
        "# Mount drive\n",
        "drive.mount('/content/drive')"
      ],
      "execution_count": null,
      "outputs": [
        {
          "output_type": "stream",
          "text": [
            "Drive already mounted at /content/drive; to attempt to forcibly remount, call drive.mount(\"/content/drive\", force_remount=True).\n"
          ],
          "name": "stdout"
        }
      ]
    },
    {
      "cell_type": "code",
      "metadata": {
        "colab": {
          "base_uri": "https://localhost:8080/"
        },
        "id": "DPy5emLxi5yF",
        "outputId": "f70f7c0f-b1a8-4ff1-d546-7698246e9118"
      },
      "source": [
        "# from keras.preprocessing import image\n",
        "model = tf.keras.models.load_model('/content/drive/MyDrive/Kaggle/models/mobilenet_v1/mobilenetv3_edit_v1')\n",
        "class_names = ['freshapples', 'freshbanana', 'freshlemon', 'freshoranges',\n",
        "               'rottenapples', 'rottenbanana', 'rottenlemon', 'rottenoranges']\n",
        "\n",
        "def preproc(data):\n",
        "    imgdata = base64.decodebytes(data)\n",
        "    image = Image.open(io.BytesIO(imgdata)).convert('RGB')\n",
        "    image_new = image.resize((224,224))\n",
        "    x = np.array(image_new)\n",
        "    x = np.expand_dims(x, axis=0)\n",
        "    x = x / 255.0\n",
        "    new_x = np.vstack([x])\n",
        "    return new_x\n",
        "\n",
        "def do_predict(data):\n",
        "    prediction = model.predict(data)\n",
        "    new_prediction = prediction.tolist()\n",
        "    result = int(np.argmax(prediction))\n",
        "    class_name = class_names[result]\n",
        "    percent = float(np.max(prediction * 100))\n",
        "    jsonDict = {\n",
        "        'predClass': result,\n",
        "        'className': class_name,\n",
        "        'percentage': percent,\n",
        "        'prediction': new_prediction,\n",
        "    }\n",
        "    return json.dumps(jsonDict)"
      ],
      "execution_count": null,
      "outputs": [
        {
          "output_type": "stream",
          "text": [
            "WARNING:tensorflow:SavedModel saved prior to TF 2.5 detected when loading Keras model. Please ensure that you are saving the model with model.save() or tf.keras.models.save_model(), *NOT* tf.saved_model.save(). To confirm, there should be a file named \"keras_metadata.pb\" in the SavedModel directory.\n"
          ],
          "name": "stdout"
        }
      ]
    },
    {
      "cell_type": "code",
      "metadata": {
        "colab": {
          "base_uri": "https://localhost:8080/"
        },
        "id": "u3OdUyF7iAjV",
        "outputId": "fe666df7-092b-47b2-a435-33c43fa2a8cb"
      },
      "source": [
        "app = Flask(__name__)\n",
        "run_with_ngrok(app)\n",
        "\n",
        "\n",
        "@app.route('/', methods=['GET'])\n",
        "def index():\n",
        "    data = {'status': 200, 'data': 'Hello there'}\n",
        "    return json.dumps(data)\n",
        "\n",
        "@app.route('/api/predict/', methods=['POST'])\n",
        "def predict_img():\n",
        "    item = request.json\n",
        "    item_dict = json.loads(item)\n",
        "    jsonResponse = do_predict(item_dict['data'])\n",
        "    return jsonResponse\n",
        "\n",
        "@app.route('/api/test/', methods=['POST'])\n",
        "def test_post():\n",
        "    item = request.json\n",
        "    jsonResult = {\n",
        "        'data': item,\n",
        "    }\n",
        "    return json.dumps(jsonResult)\n",
        "\n",
        "@app.route('/api/predict/img/', methods=['POST'])\n",
        "def predict_full_img():\n",
        "    item = request.json\n",
        "    item_dict = json.loads(item, strict=False)\n",
        "    encodedItem = item_dict['data'].encode('utf8')\n",
        "    img_data = preproc(encodedItem)\n",
        "    jsonResponse = do_predict(img_data)\n",
        "    return jsonResponse\n",
        "\n",
        "if __name__ == '__main__':\n",
        "    app.run()"
      ],
      "execution_count": null,
      "outputs": [
        {
          "output_type": "stream",
          "text": [
            " * Serving Flask app \"__main__\" (lazy loading)\n",
            " * Environment: production\n",
            "\u001b[31m   WARNING: This is a development server. Do not use it in a production deployment.\u001b[0m\n",
            "\u001b[2m   Use a production WSGI server instead.\u001b[0m\n",
            " * Debug mode: off\n"
          ],
          "name": "stdout"
        },
        {
          "output_type": "stream",
          "text": [
            " * Running on http://127.0.0.1:5000/ (Press CTRL+C to quit)\n"
          ],
          "name": "stderr"
        },
        {
          "output_type": "stream",
          "text": [
            " * Running on http://08bc9f475119.ngrok.io\n",
            " * Traffic stats available on http://127.0.0.1:4040\n"
          ],
          "name": "stdout"
        },
        {
          "output_type": "stream",
          "text": [
            "127.0.0.1 - - [31/May/2021 15:29:41] \"\u001b[37mPOST /api/predict/ HTTP/1.1\u001b[0m\" 200 -\n",
            "127.0.0.1 - - [31/May/2021 15:29:41] \"\u001b[32mPOST /api/predict/img HTTP/1.1\u001b[0m\" 308 -\n",
            "127.0.0.1 - - [31/May/2021 15:29:42] \"\u001b[37mPOST /api/predict/img/ HTTP/1.1\u001b[0m\" 200 -\n",
            "127.0.0.1 - - [31/May/2021 15:29:45] \"\u001b[37mGET / HTTP/1.1\u001b[0m\" 200 -\n",
            "127.0.0.1 - - [31/May/2021 15:30:59] \"\u001b[37mPOST /api/predict/img/ HTTP/1.1\u001b[0m\" 200 -\n",
            "127.0.0.1 - - [31/May/2021 15:34:35] \"\u001b[37mPOST /api/predict/img/ HTTP/1.1\u001b[0m\" 200 -\n",
            "127.0.0.1 - - [31/May/2021 15:36:07] \"\u001b[37mPOST /api/predict/img/ HTTP/1.1\u001b[0m\" 200 -\n",
            "127.0.0.1 - - [31/May/2021 15:37:31] \"\u001b[37mPOST /api/predict/img/ HTTP/1.1\u001b[0m\" 200 -\n"
          ],
          "name": "stderr"
        }
      ]
    }
  ]
}